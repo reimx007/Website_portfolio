{
 "cells": [
  {
   "cell_type": "code",
   "execution_count": null,
   "metadata": {},
   "outputs": [],
   "source": [
    "import os\n",
    "import pandas as pd\n",
    "import numpy as np\n"
   ]
  },
  {
   "cell_type": "code",
   "execution_count": null,
   "metadata": {},
   "outputs": [],
   "source": [
    "# Import sheets as csvs\n",
    "seq = pd.read_csv(\"L:/TTPDIR/04 - Capital Programming/State Aid/Needs/2020/RoadProjects/NeedsCalculations/1508_2986402/CP1508_Edited.csv\")\n",
    "items = pd.read_csv(\"L:/TTPDIR/04 - Capital Programming/State Aid/Needs/2020/RoadProjects/NeedsCalculations/IneligibleItems_2020.csv\")\n",
    "seq.head()\n",
    "# items.head()"
   ]
  },
  {
   "cell_type": "code",
   "execution_count": null,
   "metadata": {},
   "outputs": [],
   "source": [
    "# Break out item number fields into parent types\n",
    "seq[\"ITEM_NO\"] = seq[\"ITEM NUMBER\"].astype(str)\n",
    "seq[\"ITEMS_ABV\"] = seq[\"ITEM_NO\"].str.split('.').str[0]\n",
    "# preserve 2221.505 as an outlier child category that needs to be preserved\n",
    "seq.loc[seq.ITEM_NO == '2221.505', 'ITEMS_ABV'] = '2221.505'\n",
    "seq.head()"
   ]
  },
  {
   "cell_type": "code",
   "execution_count": null,
   "metadata": {},
   "outputs": [],
   "source": [
    "# clean up item numbers and create a list\n",
    "items[\"item_abv\"] = items[\"Spec. Item\"].map(lambda x: x.rstrip('.x'))\n",
    "#items.head()\n",
    "i_items = items[\"item_abv\"].tolist()\n",
    "print(i_items)"
   ]
  },
  {
   "cell_type": "code",
   "execution_count": null,
   "metadata": {},
   "outputs": [],
   "source": [
    "# Look up item numbers to determine if they match the inelligle list\n",
    "## https://stackoverflow.com/questions/49864401/populate-a-dataframe-column-based-on-a-list\n",
    "seq['ELIGIBLE'] = np.where(seq.ITEMS_ABV.isin(i_items),0,1)\n",
    "# assign indicators to eligible items\n",
    "eligible = seq.loc[seq[\"ELIGIBLE\"] == 1, :]\n",
    "# summarize eligible items\n",
    "eligible_cost = eligible[\"COST_INT\"].sum()\n",
    "print(eligible_cost.sum())\n",
    "\n",
    "# export to new csv\n",
    "seq.to_csv (r'L:/TTPDIR/04 - Capital Programming/State Aid/Needs/2020/RoadProjects/NeedsCalculations/1653/CP1653_Eligible.csv', index = False, header=True)\n"
   ]
  }
 ],
 "metadata": {
  "kernelspec": {
   "display_name": "Python 3",
   "language": "python",
   "name": "python3"
  },
  "language_info": {
   "codemirror_mode": {
    "name": "ipython",
    "version": 3
   },
   "file_extension": ".py",
   "mimetype": "text/x-python",
   "name": "python",
   "nbconvert_exporter": "python",
   "pygments_lexer": "ipython3",
   "version": "3.7.4"
  }
 },
 "nbformat": 4,
 "nbformat_minor": 4
}
